{
 "cells": [
  {
   "cell_type": "code",
   "execution_count": 1,
   "id": "556d00cd-86fd-4468-a081-3a3f37d0ceb7",
   "metadata": {},
   "outputs": [
    {
     "name": "stdin",
     "output_type": "stream",
     "text": [
      "Enter a sentence WELCOME to room 100\n"
     ]
    },
    {
     "name": "stdout",
     "output_type": "stream",
     "text": [
      "This sentence has 4 words\n",
      "This sentence has 3 digits\n",
      "\n",
      "7 uppercase letters\n",
      "\n",
      "6 lowercase letters\n"
     ]
    }
   ],
   "source": [
    "import string\n",
    "sentence=input('Enter a sentence')\n",
    "wordList=sentence.split(\" \")\n",
    "print(f'This sentence has {len(wordList)} words',sep='\\n\\n')\n",
    "digit_count=uppercase_count=lowercase_count=0\n",
    "for character in sentence:\n",
    "    if character in string.digits:\n",
    "        digit_count+=1\n",
    "    elif character in string.ascii_uppercase:\n",
    "        uppercase_count+=1\n",
    "    elif character in string.ascii_lowercase:\n",
    "        lowercase_count+=1\n",
    "print(f'This sentence has {digit_count} digits',f'{uppercase_count} uppercase letters',f'{lowercase_count} lowercase letters',sep='\\n\\n')"
   ]
  },
  {
   "cell_type": "code",
   "execution_count": 6,
   "id": "83c5ed7e-36cc-412b-8ca6-8ae7e0a785b6",
   "metadata": {},
   "outputs": [
    {
     "name": "stdin",
     "output_type": "stream",
     "text": [
      "Enter the string 1: cse\n",
      "Enter the string 2: eeee\n"
     ]
    },
    {
     "name": "stdout",
     "output_type": "stream",
     "text": [
      "Similarity b/n two said string is\n",
      "0.25\n"
     ]
    }
   ],
   "source": [
    "str1=input(\"Enter the string 1:\")\n",
    "str2=input(\"Enter the string 2:\")\n",
    "string_1_length=len(str1)\n",
    "string_2_length=len(str2)\n",
    "short_string_length,long_string_length=min(string_1_length,string_2_length),max(string_1_length,string_2_length)\n",
    "match_count=0\n",
    "for i in range(short_string_length):\n",
    "    if str1[i]==str2[i]:\n",
    "        match_count+=1\n",
    "print('Similarity b/n two said string is')\n",
    "print(match_count/long_string_length)"
   ]
  },
  {
   "cell_type": "code",
   "execution_count": null,
   "id": "6322de8d-9de9-4214-8cfe-632fe4aec41a",
   "metadata": {},
   "outputs": [],
   "source": []
  }
 ],
 "metadata": {
  "kernelspec": {
   "display_name": "Python 3 (ipykernel)",
   "language": "python",
   "name": "python3"
  },
  "language_info": {
   "codemirror_mode": {
    "name": "ipython",
    "version": 3
   },
   "file_extension": ".py",
   "mimetype": "text/x-python",
   "name": "python",
   "nbconvert_exporter": "python",
   "pygments_lexer": "ipython3",
   "version": "3.12.0"
  }
 },
 "nbformat": 4,
 "nbformat_minor": 5
}
